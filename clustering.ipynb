{
 "cells": [
  {
   "cell_type": "code",
   "execution_count": 9,
   "metadata": {},
   "outputs": [],
   "source": [
    "import importlib \n",
    "KMeans = importlib.import_module(\"K-Means\")\n",
    "import numpy as np\n",
    "import pandas as pd\n",
    "import matplotlib.pyplot as plt \n",
    "import seaborn as sns \n",
    "import glob\n",
    "from importlib import reload \n",
    "plt=reload(plt)\n",
    "glob = reload(glob)"
   ]
  },
  {
   "cell_type": "code",
   "execution_count": 10,
   "metadata": {},
   "outputs": [
    {
     "data": {
      "text/html": [
       "<div>\n",
       "<style scoped>\n",
       "    .dataframe tbody tr th:only-of-type {\n",
       "        vertical-align: middle;\n",
       "    }\n",
       "\n",
       "    .dataframe tbody tr th {\n",
       "        vertical-align: top;\n",
       "    }\n",
       "\n",
       "    .dataframe thead th {\n",
       "        text-align: right;\n",
       "    }\n",
       "</style>\n",
       "<table border=\"1\" class=\"dataframe\">\n",
       "  <thead>\n",
       "    <tr style=\"text-align: right;\">\n",
       "      <th></th>\n",
       "      <th>Unnamed: 0</th>\n",
       "      <th>Unnamed: 1</th>\n",
       "      <th>Unnamed: 2</th>\n",
       "      <th>Unnamed: 3</th>\n",
       "      <th>Unnamed: 4</th>\n",
       "    </tr>\n",
       "  </thead>\n",
       "  <tbody>\n",
       "    <tr>\n",
       "      <th>0</th>\n",
       "      <td>NaN</td>\n",
       "      <td>NaN</td>\n",
       "      <td>NaN</td>\n",
       "      <td>NaN</td>\n",
       "      <td>NaN</td>\n",
       "    </tr>\n",
       "    <tr>\n",
       "      <th>1</th>\n",
       "      <td>NaN</td>\n",
       "      <td>Items</td>\n",
       "      <td>Qty</td>\n",
       "      <td>Price</td>\n",
       "      <td>Total</td>\n",
       "    </tr>\n",
       "    <tr>\n",
       "      <th>2</th>\n",
       "      <td>NaN</td>\n",
       "      <td>Anchovies</td>\n",
       "      <td>28</td>\n",
       "      <td>25</td>\n",
       "      <td>700</td>\n",
       "    </tr>\n",
       "    <tr>\n",
       "      <th>3</th>\n",
       "      <td>NaN</td>\n",
       "      <td>Baby Hamour</td>\n",
       "      <td>12.3</td>\n",
       "      <td>28.37</td>\n",
       "      <td>349</td>\n",
       "    </tr>\n",
       "    <tr>\n",
       "      <th>4</th>\n",
       "      <td>NaN</td>\n",
       "      <td>Badah</td>\n",
       "      <td>10.66</td>\n",
       "      <td>25.59</td>\n",
       "      <td>272.74</td>\n",
       "    </tr>\n",
       "    <tr>\n",
       "      <th>...</th>\n",
       "      <td>...</td>\n",
       "      <td>...</td>\n",
       "      <td>...</td>\n",
       "      <td>...</td>\n",
       "      <td>...</td>\n",
       "    </tr>\n",
       "    <tr>\n",
       "      <th>111</th>\n",
       "      <td>NaN</td>\n",
       "      <td>Frozen Squid</td>\n",
       "      <td>2</td>\n",
       "      <td>34</td>\n",
       "      <td>68</td>\n",
       "    </tr>\n",
       "    <tr>\n",
       "      <th>112</th>\n",
       "      <td>NaN</td>\n",
       "      <td>Frozen Squid Rings</td>\n",
       "      <td>59</td>\n",
       "      <td>17.898305</td>\n",
       "      <td>1056</td>\n",
       "    </tr>\n",
       "    <tr>\n",
       "      <th>113</th>\n",
       "      <td>NaN</td>\n",
       "      <td>Frozen Squid Tube</td>\n",
       "      <td>540</td>\n",
       "      <td>17.212963</td>\n",
       "      <td>9295</td>\n",
       "    </tr>\n",
       "    <tr>\n",
       "      <th>114</th>\n",
       "      <td>NaN</td>\n",
       "      <td>Frozen Tuna Saku</td>\n",
       "      <td>34.8</td>\n",
       "      <td>74.03</td>\n",
       "      <td>2576.4</td>\n",
       "    </tr>\n",
       "    <tr>\n",
       "      <th>115</th>\n",
       "      <td>NaN</td>\n",
       "      <td>Frzn Black Cod Fish H/L</td>\n",
       "      <td>10.35</td>\n",
       "      <td>108</td>\n",
       "      <td>1117.8</td>\n",
       "    </tr>\n",
       "  </tbody>\n",
       "</table>\n",
       "<p>216 rows × 5 columns</p>\n",
       "</div>"
      ],
      "text/plain": [
       "     Unnamed: 0               Unnamed: 1 Unnamed: 2 Unnamed: 3 Unnamed: 4\n",
       "0           NaN                      NaN        NaN        NaN        NaN\n",
       "1           NaN                    Items        Qty      Price      Total\n",
       "2           NaN                Anchovies         28         25        700\n",
       "3           NaN              Baby Hamour       12.3      28.37        349\n",
       "4           NaN                    Badah      10.66      25.59     272.74\n",
       "..          ...                      ...        ...        ...        ...\n",
       "111         NaN             Frozen Squid          2         34         68\n",
       "112         NaN       Frozen Squid Rings         59  17.898305       1056\n",
       "113         NaN        Frozen Squid Tube        540  17.212963       9295\n",
       "114         NaN         Frozen Tuna Saku       34.8      74.03     2576.4\n",
       "115         NaN  Frzn Black Cod Fish H/L      10.35        108     1117.8\n",
       "\n",
       "[216 rows x 5 columns]"
      ]
     },
     "execution_count": 10,
     "metadata": {},
     "output_type": "execute_result"
    }
   ],
   "source": [
    "\n",
    "path = \"dataset/*.xlsx\"\n",
    "\n",
    "\"\"\" mlem = [] \n",
    "df = pd.DataFrame() \n",
    "dataFiles = None \n",
    "for shit in glob.glob(path): print(shit)\n",
    "for f in glob.glob(path):\n",
    "        dataFiles = pd.read_excel(f, sheet_name=None)\n",
    "        print(f)\n",
    "        mlem.append(dataFiles)\n",
    "        print(dataFiles.values())\n",
    "        concatDf = pd.concat(dataFiles.values())\n",
    "print(mlem) \"\"\"\n",
    "\n",
    "#! generator approach \n",
    "#? including arg sheet_name = None turns the df object into a dictionary with keys=sheetname and values = data\n",
    "def read(fpath): \n",
    "        df_dict = pd.read_excel(fpath, sheet_name=None) \n",
    "        df = pd.concat(df_dict.values(), ignore_index=True)\n",
    "        return df\n",
    "\n",
    "\n",
    "dat_frame = pd.concat(read(fpath) for fpath in glob.glob(path))\n",
    "dat_frame"
   ]
  },
  {
   "cell_type": "code",
   "execution_count": 11,
   "metadata": {},
   "outputs": [],
   "source": [
    "# cleanup df \n",
    "dat_frame = dat_frame.iloc[:,1:].drop([0,1]).dropna()\n",
    "# dat_frame.rename(columns={\"Unnamed: 1\":\"items\", \"Unnamed: 2\":\"Quantity\", \"Unnamed: 3\": \"Cost\", \"Unnamed: 4\":\"Revenue\"})\n",
    "\n",
    "# * naive approach \n",
    "dat_frame = dat_frame[dat_frame[\"Unnamed: 1\"].str.contains(\"Items\")==False]\n",
    "dat_frame = dat_frame[dat_frame[\"Unnamed: 1\"].str.contains(\"Item\")==False]\n",
    "# print(dat_frame.to_string())\n",
    "# dat_frame = dat_frame[dat_frame.columns != \"Price\"]\n",
    "# rm_strs = ['Price', 'Qty', 'Total','Totoal','Item']\n",
    "# dat_frame = dat_frame[dat_frame.columns.str.isdigit()].fillna(True) "
   ]
  },
  {
   "cell_type": "code",
   "execution_count": 12,
   "metadata": {},
   "outputs": [
    {
     "data": {
      "text/html": [
       "<div>\n",
       "<style scoped>\n",
       "    .dataframe tbody tr th:only-of-type {\n",
       "        vertical-align: middle;\n",
       "    }\n",
       "\n",
       "    .dataframe tbody tr th {\n",
       "        vertical-align: top;\n",
       "    }\n",
       "\n",
       "    .dataframe thead th {\n",
       "        text-align: right;\n",
       "    }\n",
       "</style>\n",
       "<table border=\"1\" class=\"dataframe\">\n",
       "  <thead>\n",
       "    <tr style=\"text-align: right;\">\n",
       "      <th></th>\n",
       "      <th>Unnamed: 2</th>\n",
       "      <th>Unnamed: 3</th>\n",
       "    </tr>\n",
       "  </thead>\n",
       "  <tbody>\n",
       "    <tr>\n",
       "      <th>2</th>\n",
       "      <td>28</td>\n",
       "      <td>25</td>\n",
       "    </tr>\n",
       "    <tr>\n",
       "      <th>3</th>\n",
       "      <td>12</td>\n",
       "      <td>28</td>\n",
       "    </tr>\n",
       "    <tr>\n",
       "      <th>4</th>\n",
       "      <td>10</td>\n",
       "      <td>25</td>\n",
       "    </tr>\n",
       "    <tr>\n",
       "      <th>5</th>\n",
       "      <td>1094</td>\n",
       "      <td>13</td>\n",
       "    </tr>\n",
       "    <tr>\n",
       "      <th>6</th>\n",
       "      <td>154</td>\n",
       "      <td>21</td>\n",
       "    </tr>\n",
       "    <tr>\n",
       "      <th>...</th>\n",
       "      <td>...</td>\n",
       "      <td>...</td>\n",
       "    </tr>\n",
       "    <tr>\n",
       "      <th>111</th>\n",
       "      <td>2</td>\n",
       "      <td>34</td>\n",
       "    </tr>\n",
       "    <tr>\n",
       "      <th>112</th>\n",
       "      <td>59</td>\n",
       "      <td>17</td>\n",
       "    </tr>\n",
       "    <tr>\n",
       "      <th>113</th>\n",
       "      <td>540</td>\n",
       "      <td>17</td>\n",
       "    </tr>\n",
       "    <tr>\n",
       "      <th>114</th>\n",
       "      <td>34</td>\n",
       "      <td>74</td>\n",
       "    </tr>\n",
       "    <tr>\n",
       "      <th>115</th>\n",
       "      <td>10</td>\n",
       "      <td>108</td>\n",
       "    </tr>\n",
       "  </tbody>\n",
       "</table>\n",
       "<p>208 rows × 2 columns</p>\n",
       "</div>"
      ],
      "text/plain": [
       "     Unnamed: 2  Unnamed: 3\n",
       "2            28          25\n",
       "3            12          28\n",
       "4            10          25\n",
       "5          1094          13\n",
       "6           154          21\n",
       "..          ...         ...\n",
       "111           2          34\n",
       "112          59          17\n",
       "113         540          17\n",
       "114          34          74\n",
       "115          10         108\n",
       "\n",
       "[208 rows x 2 columns]"
      ]
     },
     "execution_count": 12,
     "metadata": {},
     "output_type": "execute_result"
    }
   ],
   "source": [
    "X = dat_frame[['Unnamed: 2', 'Unnamed: 3']].astype(int)\n",
    "# X_ = np.array(X,dtype=int)\n",
    "X \n",
    "# X.describe"
   ]
  },
  {
   "cell_type": "code",
   "execution_count": 13,
   "metadata": {},
   "outputs": [
    {
     "data": {
      "text/plain": [
       "Text(0, 0.5, 'Cost/kg')"
      ]
     },
     "execution_count": 13,
     "metadata": {},
     "output_type": "execute_result"
    },
    {
     "data": {
      "image/png": "[encoded data removed]",
      "text/plain": [
       "<Figure size 576x396 with 1 Axes>"
      ]
     },
     "metadata": {},
     "output_type": "display_data"
    }
   ],
   "source": [
    "plt.close() \n",
    "plt.style.use('seaborn')\n",
    "# plt.bar(X, X['Unnamed: 1'])\n",
    "plt.scatter(X['Unnamed: 2'], X['Unnamed: 3'])\n",
    "plt.xlabel('Quantity (KGs)')\n",
    "plt.ylabel('Cost/kg')"
   ]
  },
  {
   "cell_type": "code",
   "execution_count": 14,
   "metadata": {},
   "outputs": [
    {
     "name": "stderr",
     "output_type": "stream",
     "text": [
      "d:\\.codeEnv\\dummyKmeanSales\\K-Means.py:83: VisibleDeprecationWarning: Creating an ndarray from ragged nested sequences (which is a list-or-tuple of lists-or-tuples-or ndarrays with different lengths or shapes) is deprecated. If you meant to do this, you must specify 'dtype=object' when creating the ndarray.\n",
      "  clusterElements =  X[labels == clusterMeanIndex]\n"
     ]
    }
   ],
   "source": [
    "\n",
    "model = KMeans.KMeans(KMeans.randomClusterInit,2)\n",
    "(clusters,clustersData) = model.fit(X) "
   ]
  },
  {
   "cell_type": "code",
   "execution_count": 15,
   "metadata": {},
   "outputs": [
    {
     "data": {
      "image/png": "[encoded data removed]",
      "text/plain": [
       "<Figure size 576x396 with 1 Axes>"
      ]
     },
     "metadata": {},
     "output_type": "display_data"
    }
   ],
   "source": [
    "plt.close()\n",
    "for i, clusterMean in enumerate(clusters):\n",
    "    indvidualDatCluster = clustersData[clustersData[:,-1]==i]\n",
    "\n",
    "    plt.scatter(indvidualDatCluster[:,0], indvidualDatCluster[:,1], label='Cluster' + str(i))\n",
    "    plt.plot(clusterMean[0], clusterMean[1], label ='Centroid' + str(i), marker='*', markersize=15, markeredgecolor=\"k\", markeredgewidth=1)\n",
    "    plt.xlabel('Quantity(KGs)')\n",
    "    plt.ylabel('Cost/kg')\n",
    "    plt.style.use('seaborn')\n",
    "    plt.legend()"
   ]
  },
  {
   "cell_type": "code",
   "execution_count": null,
   "metadata": {},
   "outputs": [],
   "source": []
  }
 ],
 "metadata": {
  "interpreter": {
   "hash": "f08154012ddadd8e950e6e9e035c7a7b32c136e7647e9b7c77e02eb723a8bedb"
  },
  "kernelspec": {
   "display_name": "Python 3.9.12 ('base')",
   "language": "python",
   "name": "python3"
  },
  "language_info": {
   "codemirror_mode": {
    "name": "ipython",
    "version": 3
   },
   "file_extension": ".py",
   "mimetype": "text/x-python",
   "name": "python",
   "nbconvert_exporter": "python",
   "pygments_lexer": "ipython3",
   "version": "3.9.12"
  },
  "orig_nbformat": 4
 },
 "nbformat": 4,
 "nbformat_minor": 2
}
